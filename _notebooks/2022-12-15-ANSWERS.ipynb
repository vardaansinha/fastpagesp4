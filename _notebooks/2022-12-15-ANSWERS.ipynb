{
 "cells": [
  {
   "cell_type": "markdown",
   "metadata": {},
   "source": [
    "# Homework/Hacks Answer Key for Sections 17-18\n",
    "> Homework/Hacks Answers for Sections 17-18\n",
    "\n",
    "- toc: true \n",
    "- badges: true\n",
    "- comments: true \n",
    "- categories: [jupyter]\n",
    "- author: Shaurya Goel"
   ]
  },
  {
   "cell_type": "markdown",
   "metadata": {},
   "source": [
    "# Answer for HACK 3\n",
    "\n",
    "```\n",
    "\n",
    "function peak_finder2(array){\n",
    "    if (array.length)=== 0{\n",
    "       return  `Array cannot be empty`\n",
    "     }else if (array.length === 1){\n",
    "       return array[0]\n",
    "     }else{\n",
    "       let mid_index = Math.floor(array.length*0.5)\n",
    "      if (array[mid_index +1]>array[mid_index]){\n",
    "         return peak_finding(array.slice(mid_index + 1 ))\n",
    "       }else if (array[mid_index -1]>array[mid_index]){ \n",
    "        new=array.reverse().slice(mid_index+1).reverse()\n",
    "        return peak_finding(new)  \n",
    "        }else{\n",
    "         return array[mid_index]\n",
    "        }\n",
    "      }\n",
    "}\n",
    "```"
   ]
  }
 ],
 "metadata": {
  "kernelspec": {
   "display_name": "Python 3.10.9 64-bit (microsoft store)",
   "language": "python",
   "name": "python3"
  },
  "language_info": {
   "name": "python",
   "version": "3.10.9"
  },
  "orig_nbformat": 4,
  "vscode": {
   "interpreter": {
    "hash": "dc5407af6d5b81b343ff37fc9a0fc4ce640cd799ad52d618c06b575d95b9b3ed"
   }
  }
 },
 "nbformat": 4,
 "nbformat_minor": 2
}
