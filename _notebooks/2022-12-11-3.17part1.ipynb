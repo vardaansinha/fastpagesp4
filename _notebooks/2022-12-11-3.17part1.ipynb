{
 "cells": [
  {
   "cell_type": "markdown",
   "metadata": {},
   "source": [
    "# \"3.17 Algorithmic Efficiency: Part 1\"\n",
    "> \"3.17 Part 1\"\n",
    "\n",
    "- toc: true \n",
    "- badges: true\n",
    "- comments: true\n",
    "- categories: [jupyter]\n",
    "- author: Vardaan Sinha"
   ]
  },
  {
   "cell_type": "markdown",
   "metadata": {},
   "source": [
    "<h1>Learning Objectives (3.17)</h1>"
   ]
  },
  {
   "cell_type": "markdown",
   "metadata": {},
   "source": [
    "For determining the efficiency of an algorithm:\n",
    "\n",
    "- Explain the difference between algorithms that run in reasonable time and those that do not."
   ]
  },
  {
   "cell_type": "markdown",
   "metadata": {},
   "source": [
    "<h1>Essential Knowledge (3.17 Part 1) & Vocabulary</h1>"
   ]
  },
  {
   "cell_type": "markdown",
   "metadata": {},
   "source": [
    "- A *problem* is a description of a task that may or may not be able to be solved through the use of an algorithm. An *instance* of a problem includes a specific input. One example of this type of problem is a *sorting problem*. \n",
    "- A *decision problem* is a problem with a binary answer (yes or no). An *optimization problem* is a problem with the objective of finding the **BEST** solution amongst many possibilities to solve a problem. \n",
    "- An algorithm's *efficiency* is determine through **formal or mathematical reasoning**. "
   ]
  },
  {
   "cell_type": "markdown",
   "metadata": {},
   "source": [
    "<h2>Learning Example #1 (Follow Along): </h2>"
   ]
  },
  {
   "cell_type": "markdown",
   "metadata": {},
   "source": [
    "One example of a *sorting problem* as referenced in the above key ideas involves a collection of 4 cards. The objective of this problem is to order the cards from least to greatest value, and there are many different algorithms to do this.\n"
   ]
  },
  {
   "cell_type": "markdown",
   "metadata": {},
   "source": [
    "**Algorithm #1**"
   ]
  },
  {
   "cell_type": "markdown",
   "metadata": {},
   "source": [
    "In algorithm #1, the program repeatedly compares two elements in an array of values that are **right next to each other**, and then swaps them if they are in the wrong order. \n",
    "\n",
    "In this case, the numbers were 4, 5, 7, and 2 (in that order). The code would look a little like this (notice the bubble sort that was covered by another group!):"
   ]
  },
  {
   "cell_type": "code",
   "execution_count": 2,
   "metadata": {},
   "outputs": [
    {
     "name": "stdout",
     "output_type": "stream",
     "text": [
      "Here is your sorted array:\n",
      "2\n",
      "4\n",
      "5\n",
      "7\n"
     ]
    }
   ],
   "source": [
    "def bubbleSort(arr):\n",
    "    n = len(arr)\n",
    "    \n",
    "    for i in range(n):\n",
    "        for j in range(0, n - i - 1):\n",
    "            if arr[j] > arr[j + 1]:\n",
    "                arr[j], arr[j + 1] = arr[j + 1], arr[j]\n",
    "\n",
    "arr = [4, 5, 7, 2]\n",
    "bubbleSort(arr)\n",
    "\n",
    "print(\"Here is your sorted array:\")\n",
    "for i in range(len(arr)):\n",
    "    print(\"%d\" % arr[i])"
   ]
  },
  {
   "cell_type": "markdown",
   "metadata": {},
   "source": [
    "Now, the above code worked. According to calculations though, this algorithm would take **7 comparisons** (comparisons are where the two cards next to each other are compared), and **3 swaps** (swaps are seen in lines 6 and 7 of the above program, where if a descending card has a greater value than the next card, the two cards are swapped). \n",
    "\n",
    "So, in accordance to the main points of this unit, we have to establish a sense of **algorithmic efficiency**, and create an algorithm that takes less steps and still accomplishes the task. "
   ]
  },
  {
   "cell_type": "markdown",
   "metadata": {},
   "source": [
    "**Algorithm #2**:"
   ]
  },
  {
   "cell_type": "markdown",
   "metadata": {},
   "source": [
    "In this algorithm, the program keeps finding the minimum element in the defined array, and it keeps sorting it in order. For each iteration of the program, the minimum element is compared with the next card, and then swapped if necessary.\n",
    "\n",
    "Now, let's see how this program works:"
   ]
  },
  {
   "cell_type": "code",
   "execution_count": 4,
   "metadata": {},
   "outputs": [
    {
     "name": "stdout",
     "output_type": "stream",
     "text": [
      "Here is your sorted array:\n",
      "[2, 4, 5, 7]\n"
     ]
    }
   ],
   "source": [
    "def selectionSort(array,value):\n",
    "    for step in range(value):\n",
    "        min_element = step\n",
    "        \n",
    "        for i in range(step + 1, value):\n",
    "            if array[i] < array[min_element]:\n",
    "                min_element = i\n",
    "        (array[step], array[min_element]) = (array[min_element], array[step])\n",
    "        \n",
    "cards = [4, 5, 7, 2]\n",
    "value = len(cards)\n",
    "\n",
    "selectionSort(cards,value)\n",
    "\n",
    "print(\"Here is your sorted array:\")\n",
    "print(cards)"
   ]
  },
  {
   "cell_type": "markdown",
   "metadata": {},
   "source": [
    "This code ALSO worked. But, in comparison to the first algorithm, this algorithm took less comparisons and less swaps.\n",
    "\n",
    "In the next part of our lesson, we'll be talking about HOW we can quantify algorithmic efficiency in a variety of manners. "
   ]
  },
  {
   "cell_type": "markdown",
   "metadata": {},
   "source": [
    "**Check for Understanding:**\n",
    "\n",
    "1. As discussed in the essential knowledge, there are problems that *can* or *cannot* be solved algorithmically. Which of the following options provides a problem that cannot be solved with a computer algorithm?\n",
    "\n",
    "A. You are in an elevator with other people and you have to find a route for different floors requested by people in the elevator.\n",
    "\n",
    "B. Sorting decks of cash amounts. Each deck has a different cash amount, and the decks need to be ordered from greatest to least.\n",
    "\n",
    "C. Finding the best possible route to get from one corner of a computer maze to the other corner while avoiding defined obstacles.\n",
    "\n",
    "D. All of the following can be solved with algorithms.\n",
    "\n",
    "<details closed>\n",
    "<summary>Answer</summary>\n",
    "[The answer would be option A. Though you might be able to find the best route for a set number of people to get to their floor, but at each floor that the elevator stops, new people may get on, people may get off on accident, etc, so there is a limit to how much you can optimize the problem with an algorithm.]\n",
    "</details>"
   ]
  }
 ],
 "metadata": {
  "kernelspec": {
   "display_name": "Python 3.10.9 64-bit (microsoft store)",
   "language": "python",
   "name": "python3"
  },
  "language_info": {
   "codemirror_mode": {
    "name": "ipython",
    "version": 3
   },
   "file_extension": ".py",
   "mimetype": "text/x-python",
   "name": "python",
   "nbconvert_exporter": "python",
   "pygments_lexer": "ipython3",
   "version": "3.10.9"
  },
  "orig_nbformat": 4,
  "vscode": {
   "interpreter": {
    "hash": "dc5407af6d5b81b343ff37fc9a0fc4ce640cd799ad52d618c06b575d95b9b3ed"
   }
  }
 },
 "nbformat": 4,
 "nbformat_minor": 2
}
