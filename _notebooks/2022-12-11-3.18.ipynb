{
 "cells": [
  {
   "attachments": {},
   "cell_type": "markdown",
   "metadata": {},
   "source": [
    "# \"3.18 Undecidable Problems\"\n",
    "> \"3.18\"\n",
    "\n",
    "- toc: true \n",
    "- badges: true\n",
    "- comments: true\n",
    "- categories: [jupyter]\n",
    "- author: Justin Nguyen and Zeen"
   ]
  },
  {
   "attachments": {},
   "cell_type": "markdown",
   "metadata": {},
   "source": [
    "# Learning Objective: \n",
    "\n",
    "Explain the existence of undecidable problems in programming. What are undecidable programs in computer science?\n",
    "\n",
    "\n",
    "**Main Idea: There exist problems that computers cannot solve, and even when a computer can solve a problem, it may not be able to do so in a reasonable amount of time.**\n",
    "\n",
    "# Essential Knowledge\n",
    "\n",
    "What is a decidable problem?\n",
    "\n",
    "These are problems for which algorithms can be written to solve/produce a correct output for all possible inputs.\n"
   ]
  },
  {
   "cell_type": "code",
   "execution_count": 4,
   "metadata": {},
   "outputs": [
    {
     "name": "stdout",
     "output_type": "stream",
     "text": [
      "is even\n"
     ]
    }
   ],
   "source": [
    "# \"is the num even?\" is a decidable problem \n",
    "\n",
    "\n",
    "num = 4\n",
    "\n",
    "if num % 2 == 0: # divides num by 2 and checks remainder. \n",
    "    print(\"is even\") # if remainder is 0, num is even\n",
    "else:\n",
    "    print(\"is not even\") # if there is any remainder e.g its odd num: num is odd\n",
    "\n",
    "# all inputs will provide a yes or no answer"
   ]
  },
  {
   "attachments": {},
   "cell_type": "markdown",
   "metadata": {},
   "source": [
    "What is an undecidable problem?\n",
    "\n",
    "These are problems for which no algorithms can be built that can provide a correct yes or no answer. \n",
    "\n",
    "\n",
    "Undecidable problems may have some instances of algorithmic solutions, but there are no algorithmic solutions that can solve all instances of the problem (Zeen)\n",
    "\n",
    "\n",
    "# IMPORTANT!!!!\n",
    "\n",
    "**Don't worry about determining if a given problem is undecidable or not. deciding if problems are undecideable or not is outside the scope of APCSP. Worry about that later in advanced CS courses**\n",
    "\n",
    "### Undecidable Problem: Example"
   ]
  },
  {
   "cell_type": "code",
   "execution_count": null,
   "metadata": {},
   "outputs": [],
   "source": [
    "# the Halting problem (Zeen)\n",
    "# given a computer program and an input... \n",
    "# will the program terminate or will it run forever?\n",
    "\n",
    "x = input()\n",
    "while x:\n",
    "    pass\n",
    "\n",
    "# this reads the input, \n",
    "# and if it's not empty, the procedure loops forever.\n"
   ]
  },
  {
   "attachments": {},
   "cell_type": "markdown",
   "metadata": {},
   "source": [
    "The Halting problem is probably the best known problem that has proven to be undecidable. that is, no program can solve the Halting problem for sufficiently general computer programs."
   ]
  },
  {
   "cell_type": "code",
   "execution_count": 9,
   "metadata": {},
   "outputs": [],
   "source": [
    "# problem: when does function fumo stop?\n",
    "\n",
    "\n",
    "def fumo():\n",
    "    a = 0 \n",
    "    i = 1\n",
    "    while a != 1:\n",
    "        i = i + 1\n",
    "        print(i)\n",
    "\n",
    "fumo()\n",
    "\n",
    "# this is a good example of the halting problem"
   ]
  },
  {
   "attachments": {},
   "cell_type": "markdown",
   "metadata": {},
   "source": [
    "# Theoretical Example (Zeen):\n",
    "\n",
    "Barber Paradox: There was a barber in a small town on Crick Island, and one day he made a rule that he would only cut the hair of people who did not cut their own hair. The barber's rule seemed to make sense, since people cut their own hair, so I do not have to \"do more than that\", I will give this person a haircut. Initially, there was nothing wrong with this rule, but later, as the barber's own hair grew longer and longer, he found himself in a dilemma: should he give himself a haircut?\n",
    "\n",
    "Answer: If he cuts his own hair, then he becomes the \"person who cuts his own hair\" in his regulations, then he should not cut his own hair; if he does not cut his own hair, then he is not the one in his regulations A person who cuts his own hair\", then he should cut his own hair. Combining the above two situations, \"he cuts his own hair\" if and only if \"he does not cut his own hair\", which becomes a paradox.\n",
    "\n",
    "# essential vocabulary\n",
    "\n",
    "|      vocab term     | definition                                                                                              |\n",
    "|:-------------------:|---------------------------------------------------------------------------------------------------------|\n",
    "| undecidable problem | problems for which no algorithms can be built that can provide a correct yes or no answer or a solution |\n",
    "| Decidable problem   | problems for which algorthms could be written to solve/produce a correct output for all inputs.         |\n",
    "\n",
    "\n",
    "\n",
    "# practice problems\n",
    "\n",
    "questions:\n",
    "\n",
    "**Question 1:** can there be some algorithmic solutions for some inputs/instances of a undecidable problem? \n",
    "\n",
    "**Question 1.5:** Are there algorithmic solutions for all inputs/instances of an undecidable problem?\n",
    "\n",
    "**Question 2:** Is the following problem undecidable or decidable?\n",
    "\n",
    "**Problem:** is the number given by user input greater than 20?\n",
    "\n",
    "**Question 3:** the following algorithm solves the problem below. is the problem decidable or undecidable?\n",
    "\n",
    "**Problem:** are there more different kinds of fruits in stock or more different kinds of vegetables in stock?"
   ]
  },
  {
   "cell_type": "code",
   "execution_count": 5,
   "metadata": {},
   "outputs": [
    {
     "name": "stdout",
     "output_type": "stream",
     "text": [
      "yes\n"
     ]
    }
   ],
   "source": [
    "# algorithm for question 3\n",
    "fruits = [\"apples\", \"pears\", \"apricot\", \"tomatos\"]\n",
    "\n",
    "vegetables = [\"carrot\", \"cauliflower\", \"beets\"]\n",
    "\n",
    "if len(fruits) > len(vegetables):\n",
    "    print(\"yes\")\n",
    "else:\n",
    "    print(\"no\")"
   ]
  },
  {
   "attachments": {},
   "cell_type": "markdown",
   "metadata": {},
   "source": [
    "Question 4: God is omnipotent, so can God create a stone that he cannot lift? Why or why not? (zeem)\n",
    "\n",
    "\n",
    "\n",
    "\n",
    "\n",
    "\n",
    "ANSWERS: true, false, decidable, decidable\n",
    "\n"
   ]
  }
 ],
 "metadata": {
  "kernelspec": {
   "display_name": "Python 3.10.9 64-bit (microsoft store)",
   "language": "python",
   "name": "python3"
  },
  "language_info": {
   "codemirror_mode": {
    "name": "ipython",
    "version": 3
   },
   "file_extension": ".py",
   "mimetype": "text/x-python",
   "name": "python",
   "nbconvert_exporter": "python",
   "pygments_lexer": "ipython3",
   "version": "3.10.9"
  },
  "orig_nbformat": 4,
  "vscode": {
   "interpreter": {
    "hash": "dc5407af6d5b81b343ff37fc9a0fc4ce640cd799ad52d618c06b575d95b9b3ed"
   }
  }
 },
 "nbformat": 4,
 "nbformat_minor": 2
}
