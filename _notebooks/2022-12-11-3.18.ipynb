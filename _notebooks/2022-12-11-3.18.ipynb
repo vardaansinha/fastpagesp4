{
 "cells": [
  {
   "attachments": {},
   "cell_type": "markdown",
   "metadata": {},
   "source": [
    "# \"3.18 Undecidable Problems\"\n",
    "> \"3.18\"\n",
    "\n",
    "- toc: true \n",
    "- badges: true\n",
    "- comments: true\n",
    "- categories: [jupyter]\n",
    "- author: Justin Nguyen"
   ]
  },
  {
   "attachments": {},
   "cell_type": "markdown",
   "metadata": {},
   "source": [
    "# learning objective\n",
    "\n",
    "Explain the existence of undecidable problems in computer science. Basically What are undecidable problems in comp sci?\n",
    "\n",
    "\n",
    "**Main idea: There exist problems that computers cannot solve, and even when a computer can solve a problem, it may not be able to do so in a reasonable amount of time.**\n",
    "\n",
    "# essential knowledge\n",
    "\n",
    "What is a decidable problem?\n",
    "\n",
    "these are problems for which algorthms could be written to solve/produce a correct output for all inputs.\n"
   ]
  },
  {
   "cell_type": "code",
   "execution_count": 4,
   "metadata": {},
   "outputs": [
    {
     "name": "stdout",
     "output_type": "stream",
     "text": [
      "is even\n"
     ]
    }
   ],
   "source": [
    "# \"is the num even?\" is a decidable problem \n",
    "\n",
    "\n",
    "num = 4\n",
    "\n",
    "if num % 2 == 0: # divides num by 2 and checks remainder. \n",
    "    print(\"is even\") # if remainder is 0, num is even\n",
    "else:\n",
    "    print(\"is not even\") # if there is any remainder e.g its odd num: num is odd"
   ]
  },
  {
   "attachments": {},
   "cell_type": "markdown",
   "metadata": {},
   "source": [
    "What is an undecidable problem?\n",
    "\n",
    "these are problems for which no algorithms can be built that can provide a correct yes or no answer. sometimes there are algorithmic solutions for undecidable problems that can be used for a certain instance, but there won't be one algorithmic solution for all inputs of the undecidable problem.\n",
    "\n",
    "# IMPORTANT!!!!\n",
    "\n",
    "**don't worry about determining if a given problem is undecidable or not. deciding if problems are undecideable or not is outside the scope of APCSP. worry about that later in advanced CS courses**\n",
    "\n",
    "### Undecidable problem example"
   ]
  },
  {
   "cell_type": "code",
   "execution_count": 9,
   "metadata": {},
   "outputs": [],
   "source": [
    "# problem: when does function fumo stop?\n",
    "\n",
    "\n",
    "def fumo():\n",
    "    a = 0 \n",
    "    i = 1\n",
    "    while a != 1:\n",
    "        i = i + 1\n",
    "        print(i)\n",
    "\n",
    "fumo()\n",
    "\n",
    "# this is an undecidable problem because the function fumo never stops and thus there is no algorithm we could make to determine whether or not fumo has stopped"
   ]
  },
  {
   "attachments": {},
   "cell_type": "markdown",
   "metadata": {},
   "source": [
    "# essential vocabulary\n",
    "\n",
    "|      vocab term     | definition                                                                                              |\n",
    "|:-------------------:|---------------------------------------------------------------------------------------------------------|\n",
    "| undecidable problem | problems for which no algorithms can be built that can provide a correct yes or no answer or a solution |\n",
    "| Decidable problem   | problems for which algorthms could be written to solve/produce a correct output for all inputs.         |\n",
    "\n",
    "\n",
    "\n",
    "# practice problems\n",
    "\n",
    "questions:\n",
    "\n",
    "**Question 1:** can there be some algorithmic solutions for some inputs/instances of a undecidable problem? \n",
    "\n",
    "**Question 1.5:** Are there algorithmic solutions for all inputs/instances of an undecidable problem?\n",
    "\n",
    "**Question 2:** Is the following problem undecidable or decidable?\n",
    "\n",
    "**Problem:** is the number given by user input greater than 20?\n",
    "\n",
    "**Question 3:** the following algorithm solves the problem below. is the problem decidable or undecidable?\n",
    "\n",
    "**Problem:** are there more different kinds of fruits in stock or more different kinds of vegetables in stock?"
   ]
  },
  {
   "cell_type": "code",
   "execution_count": 5,
   "metadata": {},
   "outputs": [
    {
     "name": "stdout",
     "output_type": "stream",
     "text": [
      "yes\n"
     ]
    }
   ],
   "source": [
    "# algorithm for question 3\n",
    "fruits = [\"apples\", \"pears\", \"apricot\", \"tomatos\"]\n",
    "\n",
    "vegetables = [\"carrot\", \"cauliflower\", \"beets\"]\n",
    "\n",
    "if len(fruits) > len(vegetables):\n",
    "    print(\"yes\")\n",
    "else:\n",
    "    print(\"no\")"
   ]
  },
  {
   "attachments": {},
   "cell_type": "markdown",
   "metadata": {},
   "source": [
    "\n",
    "ANSWERS: true, false, decidable, decidable\n",
    "\n"
   ]
  }
 ],
 "metadata": {
  "kernelspec": {
   "display_name": "Python 3.8.10 64-bit",
   "language": "python",
   "name": "python3"
  },
  "language_info": {
   "codemirror_mode": {
    "name": "ipython",
    "version": 3
   },
   "file_extension": ".py",
   "mimetype": "text/x-python",
   "name": "python",
   "nbconvert_exporter": "python",
   "pygments_lexer": "ipython3",
   "version": "3.8.10"
  },
  "orig_nbformat": 4,
  "vscode": {
   "interpreter": {
    "hash": "916dbcbb3f70747c44a77c7bcd40155683ae19c65e1c03b4aa3499c5328201f1"
   }
  }
 },
 "nbformat": 4,
 "nbformat_minor": 2
}
