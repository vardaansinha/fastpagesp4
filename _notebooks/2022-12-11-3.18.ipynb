{
 "cells": [
  {
   "cell_type": "markdown",
   "metadata": {},
   "source": [
    "# \"3.18 Undecidable Problems\"\n",
    "> \"3.18\"\n",
    "\n",
    "- toc: true \n",
    "- badges: true\n",
    "- comments: true\n",
    "- categories: [jupyter]\n",
    "- author: Vardaan Sinha"
   ]
  },
  {
   "attachments": {},
   "cell_type": "markdown",
   "metadata": {},
   "source": [
    "# learning objective\n",
    "\n",
    "Explain the existence of undecidable problems in computer science. Basically What are undecidable problems in comp sci?\n",
    "\n",
    "# essential knowledge\n",
    "\n",
    "What is a decidable problem?\n",
    "\n",
    "these are problems for which algorthms could be written to solve/produce a correct output for all inputs.\n"
   ]
  },
  {
   "cell_type": "code",
   "execution_count": 4,
   "metadata": {},
   "outputs": [
    {
     "name": "stdout",
     "output_type": "stream",
     "text": [
      "is even\n"
     ]
    }
   ],
   "source": [
    "#is even decidable problem \n",
    "\n",
    "\n",
    "num = 4\n",
    "\n",
    "if num % 2 == 0: # divides num by 2 and checks remainder. \n",
    "    print(\"is even\") # if remainder is 0, num is even\n",
    "else:\n",
    "    print(\"is odd\") # if there is any remainder e.g its odd num: num is odd"
   ]
  },
  {
   "attachments": {},
   "cell_type": "markdown",
   "metadata": {},
   "source": [
    "What is an undecidable problem?\n",
    "\n",
    "these are problems for which no algorithms can be built that can provide a correct yes or no answer. sometimes there are algorithmic solutions for undecidable problems that can be used for a certain instance, but there won't be one algorithmic solution for all inputs of the undecidable problem.\n",
    "\n",
    "# IMPORTANT!!!!\n",
    "\n",
    "**don't worry about determining if a given problem is undecidable or not. deciding if problems are undecideable or not is outside the scope of APCSP. worry about that later in advanced CS courses**\n",
    "\n",
    "# essential vocabulary\n",
    "\n",
    "|      vocab term     | definition                                                                                              |\n",
    "|:-------------------:|---------------------------------------------------------------------------------------------------------|\n",
    "| undecidable problem | problems for which no algorithms can be built that can provide a correct yes or no answer or a solution |\n",
    "| Decidable problem   | problems for which algorthms could be written to solve/produce a correct output for all inputs.         |\n",
    "\n",
    "\n",
    "code snippets + explanations\n",
    "\n",
    "2 practice problems\n",
    "\n",
    "relate lesson to list or binary "
   ]
  }
 ],
 "metadata": {
  "kernelspec": {
   "display_name": "Python 3.8.10 64-bit",
   "language": "python",
   "name": "python3"
  },
  "language_info": {
   "codemirror_mode": {
    "name": "ipython",
    "version": 3
   },
   "file_extension": ".py",
   "mimetype": "text/x-python",
   "name": "python",
   "nbconvert_exporter": "python",
   "pygments_lexer": "ipython3",
   "version": "3.8.10"
  },
  "orig_nbformat": 4,
  "vscode": {
   "interpreter": {
    "hash": "916dbcbb3f70747c44a77c7bcd40155683ae19c65e1c03b4aa3499c5328201f1"
   }
  }
 },
 "nbformat": 4,
 "nbformat_minor": 2
}
