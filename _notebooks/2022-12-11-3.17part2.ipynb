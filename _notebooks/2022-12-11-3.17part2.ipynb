{
 "cells": [
  {
   "cell_type": "markdown",
   "metadata": {},
   "source": [
    "# \"3.17 Algorithmic Efficiency: Part 2\"\n",
    "> \"3.17 Part 2\"\n",
    "\n",
    "- toc: true \n",
    "- badges: true\n",
    "- comments: true\n",
    "- categories: [jupyter]\n",
    "- author: Vardaan Sinha"
   ]
  },
  {
   "cell_type": "markdown",
   "metadata": {},
   "source": [
    "# Learning objective\n",
    "\n",
    "AAP-4.A.5\n",
    "\n",
    "**An algorithm’s efficiency can be informally measured by determining the number of times a statement or group of statements executes.**\n",
    "\n",
    "AAP-4.A.6\n",
    "\n",
    "**Different correct algorithms for the same problem can have different efficiencies.** \n",
    "\n",
    "\n",
    "AAP-4.A.7\n",
    "\n",
    "**Algorithms with a polynomial efficiency or slower (constant, linear, square, cube, etc.) are said to run in a reasonable amount of time. Algorithms with exponential or factorial efficiencies are examples of algorithms that run in an unreasonable amount of time.**\n",
    "\n",
    "AAP-4.A.8\n",
    "\n",
    "**Some problems cannot be solved in a reasonable amount of time because there is no efficient algorithm for solving them. In these cases, approximate solutions are sought.** \n",
    "\n",
    "\n",
    "\n",
    "\n"
   ]
  },
  {
   "cell_type": "markdown",
   "metadata": {},
   "source": [
    "### AAP-4.A.7\n",
    "\n",
    "**Reasonable Time**\n",
    "\n",
    "Algorithms with a polynomial efficiency or lower (constant, linear, square, cube, etc.)\n",
    "\n",
    "Ex:\n",
    "- n^2\n",
    "- 2n\n",
    "- n\n",
    "- n^10\n",
    "- n^20\n",
    "\n",
    "\n",
    "\n",
    "\n",
    "**Unreasonable Time**\n",
    " \n",
    "Algorithms with exponential or factorial efficiencies \n",
    "\n",
    "Ex:\n",
    "\n",
    "- 2^n\n",
    "- 10^n\n",
    "- 5^n"
   ]
  }
 ],
 "metadata": {
  "kernelspec": {
   "display_name": "Python 3.10.9 64-bit (microsoft store)",
   "language": "python",
   "name": "python3"
  },
  "language_info": {
   "name": "python",
   "version": "3.10.9"
  },
  "orig_nbformat": 4,
  "vscode": {
   "interpreter": {
    "hash": "dc5407af6d5b81b343ff37fc9a0fc4ce640cd799ad52d618c06b575d95b9b3ed"
   }
  }
 },
 "nbformat": 4,
 "nbformat_minor": 2
}
