{
 "cells": [
  {
   "cell_type": "markdown",
   "metadata": {},
   "source": [
    "# \"3.17 Algorithmic Efficiency: Part 2\"\n",
    "> \"3.17 Part 2\"\n",
    "\n",
    "- toc: true \n",
    "- badges: true\n",
    "- comments: true\n",
    "- categories: [jupyter]\n",
    "- author: Vardaan Sinha"
   ]
  },
  {
   "cell_type": "markdown",
   "metadata": {},
   "source": [
    "# Learning objective\n",
    "\n",
    "**An algorithm’s efficiency can be informally measured by determining the number of times a statement or group of statements executes.**\n",
    "\n",
    "**Different correct algorithms for the same problem can have different efficiencies.** \n",
    "\n",
    "\n",
    "**Algorithms with a polynomial efficiency or slower (constant, linear, square, cube, etc.) are said to run in a reasonable amount of time. Algorithms with exponential or factorial efficiencies are examples of algorithms that run in an unreasonable amount of time.**\n",
    "\n",
    "**Some problems cannot be solved in a reasonable amount of time because there is no efficient algorithm for solving them. In these cases, approximate solutions are sought.** \n",
    "\n",
    "\n",
    "\n",
    "# Essential knowledge\n",
    "\n",
    "What is a decidable problem?\n",
    "\n",
    "These are problems for which algorthms could be written to solve/produce a correct output for all inputs.\n"
   ]
  }
 ],
 "metadata": {
  "kernelspec": {
   "display_name": "Python 3.10.9 64-bit (microsoft store)",
   "language": "python",
   "name": "python3"
  },
  "language_info": {
   "name": "python",
   "version": "3.10.9"
  },
  "orig_nbformat": 4,
  "vscode": {
   "interpreter": {
    "hash": "dc5407af6d5b81b343ff37fc9a0fc4ce640cd799ad52d618c06b575d95b9b3ed"
   }
  }
 },
 "nbformat": 4,
 "nbformat_minor": 2
}
