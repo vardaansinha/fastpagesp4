{
 "cells": [
  {
   "cell_type": "markdown",
   "metadata": {},
   "source": [
    "# Homework/Hacks for Sections 17-18\n",
    "> Homework/Hacks for Sections 17-18\n",
    "\n",
    "- toc: true \n",
    "- badges: true\n",
    "- comments: true \n",
    "- categories: [jupyter]\n",
    "- author: Shaurya Goel"
   ]
  },
  {
   "cell_type": "markdown",
   "metadata": {},
   "source": [
    "### Rewrite this JavaScript Code in a More Efficient Way (Hint: Use Binary Search)"
   ]
  },
  {
   "cell_type": "markdown",
   "metadata": {},
   "source": [
    "```\n",
    "function peak_finder(array){\n",
    "  let counter = 0\n",
    "  let peak = 0\n",
    "  let peak_index =0\n",
    "  while (counter <= array.length){\n",
    "    console.log(counter)\n",
    "  if (counter === 0){\n",
    "    if (a[0]>=a[1]){\n",
    "      peak = a[0]\n",
    "      peak_index = counter\n",
    "      counter = array.length\n",
    "      return `The ${counter-1} indexed number, ${peak} is a peak`\n",
    "    }else{\n",
    "      counter+=1\n",
    "    }\n",
    "  }else if(counter === array.length-1){\n",
    "     if (a[array.length-1] >= a[array.length-2]){\n",
    "     peak = a[array.length-1]\n",
    "     peak_index = counter\n",
    "     counter = array.length\n",
    "     return `The ${counter-1} indexed number, ${peak} is a peak`\n",
    "     }\n",
    "   }else{\n",
    "      if (a[counter]> a[counter+1] && a[counter]> a[counter-1]){\n",
    "      peak = a[counter]\n",
    "      peak_index = counter\n",
    "      counter = array.length\n",
    "      return `The ${counter-1} indexed number, ${peak} is a peak`\n",
    "    }else{\n",
    "      counter += 1\n",
    "    }\n",
    "  }\n",
    "}\n",
    "}\n",
    "\n",
    "```"
   ]
  },
  {
   "cell_type": "markdown",
   "metadata": {},
   "source": [
    "**Answer Here:**"
   ]
  },
  {
   "cell_type": "markdown",
   "metadata": {},
   "source": [
    "### Rewrite this Python Code in a More Efficient Way"
   ]
  },
  {
   "cell_type": "code",
   "execution_count": null,
   "metadata": {},
   "outputs": [],
   "source": [
    "def merge_sort(data):\n",
    "    if len(data) <= 1:\n",
    "        return\n",
    "    \n",
    "    mid = len(data) // 2\n",
    "    left_data = data[:mid]\n",
    "    right_data = data[mid:]\n",
    "    \n",
    "    merge_sort(left_data)\n",
    "    merge_sort(right_data)\n",
    "    \n",
    "    left_index = 0\n",
    "    right_index = 0\n",
    "    data_index = 0\n",
    "    \n",
    "    while left_index < len(left_data) and right_index < len(right_data):\n",
    "        if left_data[left_index] < right_data[right_index]:\n",
    "            data[data_index] = left_data[left_index]\n",
    "            left_index += 1\n",
    "        else:\n",
    "            data[data_index] = right_data[right_index]\n",
    "            right_index += 1\n",
    "        data_index += 1\n",
    "    \n",
    "    if left_index < len(left_data):\n",
    "        del data[data_index:]\n",
    "        data += left_data[left_index:]\n",
    "    elif right_index < len(right_data):\n",
    "        del data[data_index:]\n",
    "        data += right_data[right_index:]\n",
    "    \n",
    "if __name__ == '__main__':\n",
    "    data = [9, 1, 7, 6, 2, 8, 5, 3, 4, 0]\n",
    "    merge_sort(data)\n",
    "    print(data)"
   ]
  }
 ],
 "metadata": {
  "kernelspec": {
   "display_name": "Python 3.10.8 64-bit (microsoft store)",
   "language": "python",
   "name": "python3"
  },
  "language_info": {
   "name": "python",
   "version": "3.10.8"
  },
  "orig_nbformat": 4,
  "vscode": {
   "interpreter": {
    "hash": "dc5407af6d5b81b343ff37fc9a0fc4ce640cd799ad52d618c06b575d95b9b3ed"
   }
  }
 },
 "nbformat": 4,
 "nbformat_minor": 2
}
